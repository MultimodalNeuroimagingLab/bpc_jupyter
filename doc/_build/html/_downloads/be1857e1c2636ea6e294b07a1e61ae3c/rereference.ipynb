{
  "cells": [
    {
      "cell_type": "markdown",
      "metadata": {},
      "source": [
        "\n\n# Rereference iEEG Data\n\nReference per headbox to low variance channels.\n"
      ]
    },
    {
      "cell_type": "code",
      "execution_count": null,
      "metadata": {
        "collapsed": false
      },
      "outputs": [],
      "source": [
        "# Authors: Alex Rockhill <aprockhill@mailbox.org>\n#          Dora Hermes\n#\n# License: BSD-3-Clause\nimport os\nimport numpy as np\nfrom pathlib import Path\nimport pandas as pd\n\nimport mne\nimport mne_bids\nfrom pymef.mef_session import MefSession\n\ndataset = 'ds003708'\nroot = Path('../..') / dataset\npath = mne_bids.BIDSPath(\n    subject='01', session='ieeg01', task='ccep', run='01',\n    datatype='ieeg', root=root)\nmetadata = pd.read_csv(path.copy().update(suffix='events'), sep='\\t')\nmetadata = metadata[metadata.status == 'good']\nms = MefSession(str(path.fpath) + '_ieeg.mefd', '')\nms_info = ms.read_ts_channel_basic_info()\nch_names = [ch['name'] for ch in ms_info]\ninfo = mne.create_info(ch_names, ms_info[0]['fsamp'][0], 'seeg')\ndata = np.array(ms.read_ts_channels_sample(ch_names, [0, ms_info[0]['nsamp'][0]]))\nraw = mne.io.RawArray(0.2658 * data / 1e6, info)\ndel data\nch_names_ordered = pd.read_csv(\n    path.copy().update(suffix='channels'),\n    sep='\\t')['name']\nraw = raw.reorder_channels(list(ch_names_ordered))\nmne.export.export_raw(str(path.fpath) + '_ieeg.vhdr', raw)\n\n'''\nexclude = np.array([contact in sites.split('-') for sites in\n                    metadata.electrical_stimulation_site])\nsfreq = ms_info[0]['fsamp'][0]\nepo_data = np.zeros((events.shape[0], len(ch_names), int((tmax - tmin) * sfreq)))\nfor i, e in enumerate(events[:, 0]):\n    epo_data[i] = data[:, e + int(tmin * sfreq):e + int(tmax * sfreq)]\n\nepo_data = epo_data[~exclude]\n'''\n\n# re-reference, exclude stimulation artifact for reference\nraw = mne_bids.read_raw_bids(path)\nraw.load_data()\nevents = metadata.onset * raw.info['sfreq']\nmask = np.zeros((len(raw.ch_names), raw.times.size), dtype=bool)\nfor onset, site in zip(metadata.onset, metadata.electrical_stimulation_site):\n    samp = int(onset * raw.info['sfreq'])\n    start_i, end_i = int(samp - raw.info['sfreq']), int(samp + 3 * raw.info['sfreq'])\n    for ch in site.split('-'):\n        mask[raw.ch_names.index(ch), start_i:end_i] = True\nstim_artifact = raw._data[mask].copy()  # save for later\nraw._data[mask] = np.nan\n\n# find channels with low variance\nevents = np.zeros((len(metadata), 3), dtype=int)\nevents[:, 0] = metadata.onset * raw.info['sfreq']\nepochs = mne.Epochs(raw, events, tmin=0.01, tmax=2,\n                    baseline=None, preload=True)\nepochs.pick(['ecog', 'seeg'], exclude='bads')\n# swap epochs with channels to flatten\nerp_data = epochs.get_data(tmax=0.1).transpose([1, 0, 2])\nbaseline_data = epochs.get_data(tmin=0.5).transpose([1, 0, 2])\nerp_var = np.nanvar(erp_data.reshape(erp_data.shape[0], -1), axis=1, ddof=1)\nbaseline_var = np.nanvar(baseline_data.reshape(\n    baseline_data.shape[0], -1), axis=1, ddof=1)\nerp_var_thresh = np.quantile(erp_var, 0.75, method='midpoint')\nbaseline_var_thresh = np.quantile(baseline_var, 0.75, method='midpoint')\nlow_var = (erp_var < erp_var_thresh) & (baseline_var < baseline_var_thresh)\nref_chs = [epochs.ch_names[i] for i, check in enumerate(low_var) if check]\ndel epochs\nsel = mne.pick_types(raw.info, ecog=True, seeg=True)\nfor i in range(0, len(raw.ch_names), 64):\n    max_i = min([i + 64, len(raw.ch_names) - 1])\n    idxs = np.arange(i, max_i)[np.in1d(np.arange(i, max_i), sel)]\n    ref_idxs = [i for i in idxs if raw.ch_names[i] in ref_chs]\n    print(f\"re-referencing block {i} to {[raw.ch_names[i] for i in ref_idxs]}\")\n    raw._data[idxs] -= np.nanmean(raw._data[ref_idxs], axis=0, keepdims=True)\n\nraw._data[mask] = stim_artifact\ndel erp_data, baseline_data, mask, stim_artifact\nfor ext in ('vhdr', 'vmrk', 'eeg'):  # memory issues when not deleted\n    os.remove(str(path.fpath) + f'_ieeg.{ext}')\nmne.export.export_raw(str(path.fpath) + '_ieeg.vhdr', raw)"
      ]
    }
  ],
  "metadata": {
    "kernelspec": {
      "display_name": "Python 3",
      "language": "python",
      "name": "python3"
    },
    "language_info": {
      "codemirror_mode": {
        "name": "ipython",
        "version": 3
      },
      "file_extension": ".py",
      "mimetype": "text/x-python",
      "name": "python",
      "nbconvert_exporter": "python",
      "pygments_lexer": "ipython3",
      "version": "3.10.10"
    }
  },
  "nbformat": 4,
  "nbformat_minor": 0
}